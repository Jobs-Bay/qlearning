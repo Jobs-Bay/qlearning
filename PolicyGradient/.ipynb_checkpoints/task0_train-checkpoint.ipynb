{
 "cells": [
  {
   "cell_type": "code",
   "execution_count": 1,
   "id": "882ed1d3",
   "metadata": {},
   "outputs": [],
   "source": [
    "import sys, os\n",
    "import gym\n",
    "import torch\n",
    "import datetime\n",
    "from itertools import count\n",
    "from agent import PolicyGradient\n",
    "from plot import plot_rewards_cn\n",
    "from utils import save_results,make_dir"
   ]
  },
  {
   "cell_type": "code",
   "execution_count": null,
   "id": "fe752c9b",
   "metadata": {},
   "outputs": [],
   "source": [
    "curr_path=os.path.dirname(__file__)\n",
    "curr_time=datetime.datetime.now().strftime(\"%Y%m%d-%H%M%S\")"
   ]
  },
  {
   "cell_type": "code",
   "execution_count": null,
   "id": "420cce02",
   "metadata": {},
   "outputs": [],
   "source": [
    "class PGConfig(object):\n",
    "    def __init__(self):\n",
    "        self.algo=\"PolicyGradient\" #项目名字\n",
    "        self.env=\"CartPole-v0\" #环境名称\n",
    "        self.result_path=curr_path+\"/outputs/\"+self.env+\"/\"+curr_time+\"/results/\" #结果保存路径\n",
    "        self.model_path=curr_path+\"/outputs/\"+self.env+\"/\"+curr_time+\"/models/\" #模型保存的路径\n",
    "        self.train_eps=300 #训练的episode数目\n",
    "        self.eval_eps=50\n",
    "        self.batch_size=8\n",
    "        self.lr=0.01 #学习率\n",
    "        self.gamma=0.99\n",
    "        self.hidden_dim=36\n",
    "        self.device=torch.device(\"cuda\")\n",
    "        \n",
    "        \n",
    "def env_agent_config(cfg,seed):\n",
    "    env=gym.make(cfg.env)\n",
    "    env.seed(seed)\n",
    "    state_dim=env.observation_space.shape[0]\n",
    "    agent=PolicyGradient(state_dim,cfg)\n",
    "    return env,agent\n",
    "\n",
    "def train(cfg,env,agent):\n",
    "    print(\"测试开始！\")\n",
    "    print(f\"环境：{cfg.env},算法：{cfg.algo},设备：{cfg.device}\")\n",
    "    state_pool=[] #存放每batch_size个episode的state序列\n",
    "    action_pool=[]#存放每batch_size个episode的action序列\n",
    "    reward_pool=[]#存放每batch_size个episode的reward序列\n",
    "    rewards=[]\n",
    "    ma_rewards=[]\n",
    "    for i_episode in range(cfg.train_eps):\n",
    "        state=env.reset()\n",
    "        ep_reward=0\n",
    "        for _ in count():\n",
    "            action=agent.choose_action(state) #根据当前环境state选择action\n",
    "            next_state,reward,done,_=env.step(action)\n",
    "            ep_reward+=reward\n",
    "            if done:\n",
    "                reward=0\n",
    "            state_pool.append(state)\n",
    "            action_pool.append(float(action))\n",
    "            reward_pool.append(reward)\n",
    "            state=next_state\n",
    "            if done:\n",
    "                print(\"回合:\",i_episode,\"回报：\",ep_reward)\n",
    "                break\n",
    "        if i_episode>0 and i_episode % cfg.batch_size==0:\n",
    "            agent.update(reward_pool,state_pool,action_pool)\n",
    "            state_pool=[] #每个回合的state\n",
    "            action_pool=[] #每个回合的action\n",
    "            reward_pool=[] #每个回合的reward\n",
    "        rewards.append(ep_reward)\n",
    "        if ma_rewards:\n",
    "            ma_rewards.append(0.9*ma_rewards[-1]+0.1*ep_reward)\n",
    "        else:\n",
    "            ma_rewards.append(ep_reward)\n",
    "    print(\"训练完毕！\")\n",
    "    return rewards,ma_rewards\n",
    "\n",
    "\n",
    "def eval(cfg,env,agent):\n",
    "    print(\"测试开始！\")\n",
    "    print(f\"环境：{cfg.env},算法：{cfg.algo},设备：{cfg.device}\")\n",
    "    rewards=[]\n",
    "    ma_rewards=[]\n",
    "    for i_episode in range(cfg.eval_eps):\n",
    "        state=env.reset()\n",
    "        ep_reward=0\n",
    "        for _ in count():\n",
    "            ep_reward+=reward\n",
    "            if done:\n",
    "                reward=0\n",
    "            state=next_state\n",
    "            if done:\n",
    "                print(\"回合:\",i_episode,\"回报：\",ep_reward)\n",
    "                break\n",
    "        rewards.append(ep_reward)\n",
    "        if ma_rewards:\n",
    "            ma_rewards.append(0.9*ma_rewards[-1]+0.1*ep_reward)\n",
    "        else:\n",
    "            ma_rewards.append(ep_reward)\n",
    "    print(\"测试完毕！\")\n",
    "    return rewards,ma_rewards        \n",
    "\n",
    "        "
   ]
  },
  {
   "cell_type": "code",
   "execution_count": null,
   "id": "4ffb10fe",
   "metadata": {},
   "outputs": [],
   "source": [
    "cfg=PGConfig()\n",
    "\n",
    "#训练\n",
    "env,agent=env_agent_config(cfg,seed=10)\n",
    "rewards,ma_rewards=train(cfg,env,agent)\n",
    "make_dir(cfg.reuslt_path,cfg.model_path)\n",
    "agent.save(path=cfg.model_path)\n",
    "save_results(rewards,ma_rewards,tag=\"train\",path=cfg.result_path)\n",
    "plot_rewards_cn(rewards,ma_rewards,tag=\"训练\",algo=cfg.algo,path=cfg.result_path)\n",
    "\n",
    "#测试\n",
    "env,agent=env_agent_config(cfg,seed=10)\n",
    "agent.load(path=cfg.model_path)\n",
    "rewards,ma_rewards=eval(cfg,env,agent)\n",
    "save_results(rewards,ma_rewards,tag=\"eval\",path=cfg.result_path)\n",
    "plot_rewards_cn(rewards,ma_rewards,tag=\"测试\",env=cfg.env,algo=cfg.algo,path=cfg.result_path)"
   ]
  },
  {
   "cell_type": "code",
   "execution_count": 1,
   "id": "3a7b1996",
   "metadata": {},
   "outputs": [
    {
     "name": "stderr",
     "output_type": "stream",
     "text": [
      "[NbConvertApp] Converting notebook task0_train.ipynb to python\n",
      "[NbConvertApp] Writing 3701 bytes to task0_train.py\n"
     ]
    }
   ],
   "source": [
    "try:   \n",
    "    !jupyter nbconvert --to python task0_train.ipynb\n",
    "    # python即转化为.py，script即转化为.html\n",
    "    # file_name.ipynb即当前module的文件名\n",
    "except:\n",
    "    pass"
   ]
  },
  {
   "cell_type": "code",
   "execution_count": null,
   "id": "fe09d889",
   "metadata": {},
   "outputs": [],
   "source": []
  }
 ],
 "metadata": {
  "kernelspec": {
   "display_name": "Python 3 (ipykernel)",
   "language": "python",
   "name": "python3"
  },
  "language_info": {
   "codemirror_mode": {
    "name": "ipython",
    "version": 3
   },
   "file_extension": ".py",
   "mimetype": "text/x-python",
   "name": "python",
   "nbconvert_exporter": "python",
   "pygments_lexer": "ipython3",
   "version": "3.7.6"
  }
 },
 "nbformat": 4,
 "nbformat_minor": 5
}
