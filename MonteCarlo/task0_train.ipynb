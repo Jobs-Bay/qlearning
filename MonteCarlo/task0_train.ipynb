{
 "cells": [
  {
   "cell_type": "code",
   "execution_count": 3,
   "id": "146450e2",
   "metadata": {},
   "outputs": [],
   "source": [
    "import os,sys\n",
    "import torch\n",
    "import datetime\n",
    "from utils import save_results,make_dir\n",
    "from plot import plot_rewards_cn\n",
    "from agent import FirstVisitMC\n",
    "from racetrack_env import RacetrackEnv"
   ]
  },
  {
   "cell_type": "code",
   "execution_count": null,
   "id": "2b810003",
   "metadata": {},
   "outputs": [],
   "source": [
    "curr_time=datetime.datetime.now().strftime(\"%Y%m%d-%H%M%S\") #获取当前时间\n",
    "curr_path=os.path.dirname(os.path.abspath(__file__)) #当前路径\n",
    "\n",
    "class MCConfig(object):\n",
    "    def __init__(self):\n",
    "        self.algo=\"MC\"\n",
    "        self.env = 'Racetrack'\n",
    "        self.result_path = curr_path+\"/outputs/\" + self.env + '/'+curr_time+'/results/'  # 结果存储路径\n",
    "        self.model_path = curr_path+\"/outputs/\" + self.env + '/'+curr_time+'/models/'  # 模型存储路径\n",
    "        # 随机选择动作的概率:epsilon\n",
    "        self.epsilon = 0.15\n",
    "        self.gamma = 0.9  # gamma: 折现因子\n",
    "        self.train_eps = 200\n",
    "        self.device = torch.device(\"cuda\" ) \n",
    "\n",
    "def env_agent_config(cfg,seed=1):\n",
    "    env=RacetrackEnv()\n",
    "    action_dim=9\n",
    "    agent=FirstVisitMC(action_dim,cfg)\n",
    "    return env,agent\n",
    "\n",
    "def train(cfg,env,agent):\n",
    "    print(\"开始训练！\")\n",
    "    print(f\"环境：{cfg.env},算法：{cfg.algo},设备：{cfg.device}\")\n",
    "    rewards=[]\n",
    "    ma_rewards=[]\n",
    "    \n",
    "    for i_ep in range(cfg.train_eps):\n",
    "        state=env.reset()\n",
    "        ep_reward=0\n",
    "        one_ep_transition=[]\n",
    "        while True:\n",
    "            action=agent.choose_action(state)\n",
    "            next_state,reward,done=env.step(action)\n",
    "            ep_reward+=reward\n",
    "            one_ep_transition.append((state,action,reward))\n",
    "            state=next_state\n",
    "            if done:\n",
    "                break\n",
    "        rewards.append(ep_reward)\n",
    "        if ma_rewards:\n",
    "            ma_rewards.append(ma_rewards[-1]*0.9+ep_reward*0.1)\n",
    "        else:\n",
    "            ma_rewards.append(ep_reward)\n",
    "        \n",
    "        agent.update(one_ep_transition)\n",
    "        if (i_ep+1) % 10==0:\n",
    "            print(f\"回合：{i_ep+1}/{cfg.train_eps}:Reward:{ep_reward}\")\n",
    "    \n",
    "    print(\"训练完毕!\")\n",
    "    return rewards,ma_rewards\n",
    "\n",
    "def eval(cfg,env,agent):\n",
    "    print(\"开始测试！\")\n",
    "    print(f\"环境：{cfg.env},算法：{cfg.algo},设备：{cfg.device}\")    \n",
    "    rewards=[]\n",
    "    ma_rewards=[]\n",
    "\n",
    "    for i_ep in range(cfg.train_eps):\n",
    "        state=env.reset()\n",
    "        ep_reward=0\n",
    "        while True:\n",
    "            env.render()\n",
    "            action=agent.choose_action(state)\n",
    "            next_state,reward,done=env.step(action)\n",
    "            ep_reward+=reward\n",
    "            state=next_state\n",
    "            if done:\n",
    "                break\n",
    "        rewards.append(ep_reward)\n",
    "        if ma_rewards:\n",
    "            ma_rewards.append(ma_rewards[-1]*0.9+ep_reward*0.1)\n",
    "        else:\n",
    "            ma_rewards.append(ep_reward)\n",
    "        \n",
    "        env.close()\n",
    "        if (i_ep+1) % 10==0:\n",
    "            print(f\"回合：{i_ep+1}/{cfg.train_eps}:Reward:{ep_reward}\")\n",
    "    \n",
    "    print(\"测试完毕!\")\n",
    "    return rewards,ma_rewards\n"
   ]
  },
  {
   "cell_type": "code",
   "execution_count": null,
   "id": "f7d88ccd",
   "metadata": {},
   "outputs": [],
   "source": [
    "cfg=MCConfig()\n",
    "\n",
    "#训练\n",
    "env,agent=env_agent_config(cfg,seed=1)\n",
    "rewards,ma_rewards=train(cfg,env,agent)\n",
    "make_dir(cfg.result_path,cfg.model_path)\n",
    "agent.save(path=cfg.model_path)\n",
    "save_results(rewards,ma_rewards,tag=\"train\",path=cfg.result_path)\n",
    "plot_rewards_cn(rewards,ma_rewards,tag=\"训练\",algo=cfg.algo,path=cfg.result_path)\n",
    "\n",
    "#测试\n",
    "env,agent=env_agent_config(cfg,seed=10)\n",
    "agent.load(path=cfg.model_path)\n",
    "rewards,ma_rewards=eval(cfg,env,agent)\n",
    "save_results(rewards,ma_rewards,tag=\"eval\",path=cfg.result_path)\n",
    "plot_rewards_cn(rewards,ma_rewards,tag=\"测试\",env=cfg.env,algo=cfg.algo,path=cfg.result_path)"
   ]
  },
  {
   "cell_type": "code",
   "execution_count": 4,
   "id": "77ca63c5",
   "metadata": {},
   "outputs": [
    {
     "name": "stderr",
     "output_type": "stream",
     "text": [
      "[NbConvertApp] Converting notebook task0_train.ipynb to python\n",
      "[NbConvertApp] Writing 3334 bytes to task0_train.py\n"
     ]
    }
   ],
   "source": [
    "try:   \n",
    "    !jupyter nbconvert --to python task0_train.ipynb\n",
    "    # python即转化为.py，script即转化为.html\n",
    "    # file_name.ipynb即当前module的文件名\n",
    "except:\n",
    "    pass"
   ]
  },
  {
   "cell_type": "code",
   "execution_count": null,
   "id": "5012ac1b",
   "metadata": {},
   "outputs": [],
   "source": []
  }
 ],
 "metadata": {
  "kernelspec": {
   "display_name": "Python 3 (ipykernel)",
   "language": "python",
   "name": "python3"
  },
  "language_info": {
   "codemirror_mode": {
    "name": "ipython",
    "version": 3
   },
   "file_extension": ".py",
   "mimetype": "text/x-python",
   "name": "python",
   "nbconvert_exporter": "python",
   "pygments_lexer": "ipython3",
   "version": "3.7.6"
  }
 },
 "nbformat": 4,
 "nbformat_minor": 5
}
